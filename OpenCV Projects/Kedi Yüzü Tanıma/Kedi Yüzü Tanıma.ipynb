{
 "cells": [
  {
   "cell_type": "code",
   "execution_count": null,
   "id": "5ceaeb02",
   "metadata": {},
   "outputs": [],
   "source": [
    "import cv2 \n",
    "import os\n"
   ]
  },
  {
   "cell_type": "code",
   "execution_count": 19,
   "id": "3ea11fcc",
   "metadata": {},
   "outputs": [
    {
     "name": "stdout",
     "output_type": "stream",
     "text": [
      "cat2.jpg\n",
      "cats.jpeg\n"
     ]
    }
   ],
   "source": [
    "\n",
    "files = os.listdir()\n",
    "\n",
    "img_path_list = []\n",
    "\n",
    "for f in files:\n",
    "    if f.endswith(\".jpg\") or f.endswith(\".jpeg\") :\n",
    "        img_path_list.append(f)\n",
    "\n",
    "for k in img_path_list:        \n",
    "    print(k)\n",
    "    image = cv2.imread(k)\n",
    "    gray = cv2.cvtColor(image , cv2.COLOR_BGR2GRAY)\n",
    "    \n",
    "    detector = cv2.CascadeClassifier(\"haarcascade_frontalcatface.xml\")\n",
    "    rects = detector.detectMultiScale(gray, scaleFactor =1.83245, minNeighbors = 1)\n",
    "    \n",
    "    for (i , (x,y,w,h)) in enumerate(rects):\n",
    "        cv2.rectangle(image,(x,y),(x+w, y+h),(0,255,255), 2)\n",
    "        cv2.putText(image, \"Kedi {}\".format(i+1),(x,y-10), cv2.FONT_HERSHEY_SIMPLEX,0.55,(0,255,255),2)\n",
    "    \n",
    "    \n",
    "    \n",
    "    cv2.imshow(k, image)\n",
    "    if cv2.waitKey(0) & 0xFF == ord(\"q\"):continue\n",
    "        "
   ]
  }
 ],
 "metadata": {
  "kernelspec": {
   "display_name": "Python 3",
   "language": "python",
   "name": "python3"
  },
  "language_info": {
   "codemirror_mode": {
    "name": "ipython",
    "version": 3
   },
   "file_extension": ".py",
   "mimetype": "text/x-python",
   "name": "python",
   "nbconvert_exporter": "python",
   "pygments_lexer": "ipython3",
   "version": "3.8.8"
  }
 },
 "nbformat": 4,
 "nbformat_minor": 5
}
